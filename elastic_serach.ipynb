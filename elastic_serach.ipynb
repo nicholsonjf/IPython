{
 "metadata": {
  "name": "Elastic Search"
 },
 "nbformat": 3,
 "nbformat_minor": 0,
 "worksheets": [
  {
   "cells": [
    {
     "cell_type": "markdown",
     "metadata": {},
     "source": "###Getting Started with Elastic Search on Windows 7\n\n- Download and install JDK 7u55: http://www.oracle.com/technetwork/java/javase/downloads/index.html\n- Set JAVA_HOME environment variable:\n - SET `$JAVA_HOME = C:\\Program Files\\Java\\jdk1.7.0_55`\n- Download and unzip Elastic Search: http://www.elasticsearch.org/overview/elkdownloads/\n- Run elasticsearch.bat file"
    },
    {
     "cell_type": "markdown",
     "metadata": {},
     "source": "###Calling the Elastic Search APIs from Python 2.7"
    },
    {
     "cell_type": "code",
     "collapsed": false,
     "input": "import httplib\nconn = httplib.HTTPConnection('10.21.80.126:9200')\nconn.request(\"GET\", \"/_cat/health?v\")\nr1 = conn.getresponse()",
     "language": "python",
     "metadata": {},
     "outputs": [],
     "prompt_number": 19
    },
    {
     "cell_type": "code",
     "collapsed": false,
     "input": "print r1.read()",
     "language": "python",
     "metadata": {},
     "outputs": [
      {
       "output_type": "stream",
       "stream": "stdout",
       "text": "epoch      timestamp cluster       status node.total node.data shards pri relo init unassign \n1398895464 15:04:24  elasticsearch green           1         1      0   0    0    0        0 \n\n"
      }
     ],
     "prompt_number": 20
    },
    {
     "cell_type": "code",
     "collapsed": false,
     "input": "print r1.status, r1.reason",
     "language": "python",
     "metadata": {},
     "outputs": [
      {
       "output_type": "stream",
       "stream": "stdout",
       "text": "200 OK\n"
      }
     ],
     "prompt_number": 21
    },
    {
     "cell_type": "code",
     "collapsed": false,
     "input": "conn.request(\"GET\", \"/_cat/nodes?v\")\nr2 = conn.getresponse()",
     "language": "python",
     "metadata": {},
     "outputs": [],
     "prompt_number": 22
    },
    {
     "cell_type": "code",
     "collapsed": false,
     "input": "print r2.read()",
     "language": "python",
     "metadata": {},
     "outputs": [
      {
       "output_type": "stream",
       "stream": "stdout",
       "text": "host         ip           heap.percent ram.percent load node.role master name        \nSFO1-3D1D4V1 10.21.80.126            5          60      d         *      Kleinstocks \n\n"
      }
     ],
     "prompt_number": 23
    }
   ],
   "metadata": {}
  }
 ]
}
