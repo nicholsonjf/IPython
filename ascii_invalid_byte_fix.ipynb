{
 "metadata": {
  "name": "ascii_invalid_byte_fix"
 },
 "nbformat": 3,
 "nbformat_minor": 0,
 "worksheets": [
  {
   "cells": [
    {
     "cell_type": "markdown",
     "metadata": {},
     "source": "Many applications will allow the use of code points outside the range of the ascii codec. For example, some Windows applications use the windows-1252 (cp-1252) encoding. Whether or not it's proper punctuation, someone might send you a file that contains an [en dash][1], which will not get rendered properly by the default ASCII codec that Python 2.7 uses, and will present further issues if one tries to, for example, insert the data into a database.\n\nI recently encountered this issue with a CSV file I was trying to load into PostgreSQL. Since Python 2.7 is using ASCII by default to render text in the interpreter, it was not able to render the byte sequence for the en dash, and instead displayed the hexadecimal value.\n\nSay I have a file named 'test.txt' containing one sentence \"The word \"how-to\" is usually written with a dash\" where the dash between \"how\" and \"to\" is an en dash. If you open the file in a text editor, it will render like this:\n\n```\nThe word \"how-to\" is usually written with a dash.\n```\n\nIn Python 2.7, if you open the file and read it's contents to the terminal, it will render like this:\n\n```\n>>> test = open('test.txt')\n>>> text = test.read()\n>>> print text\n'The word \"how\\x96to\" is usually written with a hyphen'\n```\n\nWhen I tried to load the contents of my opened text file into PostgreSQL, I received a Pyscopg2.DataError. That's because my database is cast in UTF-8 and to get from a Python string to UTF-8, the string must be encoded first:\n\n```\n>>> invalid = 'how\\x96to'\n>>> invalid.encode()\n...\nUnicodeDecodeError: 'ascii' codec can't decode byte 0x96 in position 3: ordinal not in range(128)\n```\n\nTo fix my string so I could insert it into PostgreSQL, I simply replaced the invalid byte sequence with a valid ASCII hyphen:\n\n```\n>>> invalid = 'how\\x96to'\n>>> valid = invalid.replace('\\x96', '-')\n>>> print valid\n'how-to'\n```\n\n[1]: http://www.fileformat.info/info/unicode/char/2013/browsertest.htm"
    },
    {
     "cell_type": "code",
     "collapsed": false,
     "input": "",
     "language": "python",
     "metadata": {},
     "outputs": []
    }
   ],
   "metadata": {}
  }
 ]
}
