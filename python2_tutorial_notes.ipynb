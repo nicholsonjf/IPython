{
 "metadata": {
  "name": "Py2_tutorial"
 },
 "nbformat": 3,
 "nbformat_minor": 0,
 "worksheets": [
  {
   "cells": [
    {
     "cell_type": "heading",
     "level": 1,
     "metadata": {},
     "source": "Notes from Python 2.7 Tutorial"
    },
    {
     "cell_type": "markdown",
     "metadata": {},
     "source": "####What is TTY? (2.1.2 Interactive Mode)\n- Short for TeleType\n- A leftover term from the original stock ticker created in the late 1800's,\n- Part of UNIX terminal emulation, taking input and assigning to processes"
    },
    {
     "cell_type": "markdown",
     "metadata": {},
     "source": "####Complex, Real and Imaginary Numbers (3.1.1. Numbers)\n- A real number is pretty much any normal number: 4, -5.2, sqrt(4.2)\n - When squared the result is positive\n - The unit real number = 1\n- An imaginary number is one where if squared, the result is negative\n - The unit imaginary number i = sqrt(-1)"
    }
   ],
   "metadata": {}
  }
 ]
}
